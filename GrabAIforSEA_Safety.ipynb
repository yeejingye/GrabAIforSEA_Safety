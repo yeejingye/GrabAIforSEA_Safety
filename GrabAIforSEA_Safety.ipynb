{
  "nbformat": 4,
  "nbformat_minor": 0,
  "metadata": {
    "colab": {
      "name": "GrabAIforSEA_Safety.ipynb",
      "version": "0.3.2",
      "provenance": [],
      "collapsed_sections": []
    },
    "kernelspec": {
      "name": "python3",
      "display_name": "Python 3"
    },
    "accelerator": "GPU"
  },
  "cells": [
    {
      "cell_type": "markdown",
      "metadata": {
        "id": "vp1ACT5ZOD-q",
        "colab_type": "text"
      },
      "source": [
        "# **GRAB AI FOR S.E.A. - Safety**"
      ]
    },
    {
      "cell_type": "markdown",
      "metadata": {
        "id": "tSSQ8tTVOaTB",
        "colab_type": "text"
      },
      "source": [
        "## **Importing file.csv containing features and labels.**"
      ]
    },
    {
      "cell_type": "code",
      "metadata": {
        "id": "ZnmkkOSgOFQT",
        "colab_type": "code",
        "colab": {}
      },
      "source": [
        "# Code to read csv file into Colaboratory:\n",
        "!pip install -U -q PyDrive\n",
        "from pydrive.auth import GoogleAuth\n",
        "from pydrive.drive import GoogleDrive\n",
        "from google.colab import auth\n",
        "from oauth2client.client import GoogleCredentials\n",
        "# Authenticate and create the PyDrive client.\n",
        "auth.authenticate_user()\n",
        "gauth = GoogleAuth()\n",
        "gauth.credentials = GoogleCredentials.get_application_default()\n",
        "drive = GoogleDrive(gauth)"
      ],
      "execution_count": 0,
      "outputs": []
    },
    {
      "cell_type": "markdown",
      "metadata": {
        "id": "AldRNnY3uimo",
        "colab_type": "text"
      },
      "source": [
        "### **Insert the link of Google Drive file containing all the features files**"
      ]
    },
    {
      "cell_type": "code",
      "metadata": {
        "id": "03oCQTHUuh7g",
        "colab_type": "code",
        "colab": {}
      },
      "source": [
        "# Declare the Google Drive file link.\n",
        "## The sample of the link: 'https://drive.google.com/open?id=1NONER4dapWGYKK6D-CGb8SAhavKzETQ1'\n",
        "link = 'https://drive.google.com/open?id=1NONER4dapWGYKK6D-CGb8SAhavKzETQ1'\n",
        "\n",
        "# Acquiring the id after the equal sign in the shareable link\n",
        "fluff, id = link.split('=')\n",
        "print (id)\n",
        "\n",
        "# Read and store in pandas dataframe\n",
        "import pandas as pd\n",
        "downloaded = drive.CreateFile({'id':id}) \n",
        "downloaded.GetContentFile('full.csv')  \n",
        "file = pd.read_csv('full.csv')"
      ],
      "execution_count": 0,
      "outputs": []
    },
    {
      "cell_type": "code",
      "metadata": {
        "id": "FbmMuU9YOw57",
        "colab_type": "code",
        "outputId": "c12ad1e5-f721-472d-9a07-5f1b5d83d809",
        "colab": {
          "base_uri": "https://localhost:8080/",
          "height": 34
        }
      },
      "source": [
        "# IMPORT THE FEATURES\n",
        "\n",
        "# Import the shareable link\n",
        "link = 'https://drive.google.com/open?id=1NONER4dapWGYKK6D-CGb8SAhavKzETQ1' \n",
        "\n",
        "# Acquiring the id after the equal sign in the shareable link\n",
        "fluff, id = link.split('=')\n",
        "print (id)\n",
        "\n",
        "# Read and store in pandas dataframe\n",
        "import pandas as pd\n",
        "downloaded = drive.CreateFile({'id':id}) \n",
        "downloaded.GetContentFile('full.csv')  \n",
        "file = pd.read_csv('full.csv')"
      ],
      "execution_count": 0,
      "outputs": [
        {
          "output_type": "stream",
          "text": [
            "1NONER4dapWGYKK6D-CGb8SAhavKzETQ1\n"
          ],
          "name": "stdout"
        }
      ]
    }
  ]
}